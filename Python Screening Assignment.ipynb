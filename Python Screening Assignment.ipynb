{
 "cells": [
  {
   "cell_type": "markdown",
   "id": "b3ab3b70-b5c4-4330-b5b5-562088e9f248",
   "metadata": {},
   "source": [
    "1. Create a function in python to read the text file and replace specific content of the file."
   ]
  },
  {
   "cell_type": "code",
   "execution_count": 1,
   "id": "0447a88e-adbb-42ad-bfe9-8be221485b23",
   "metadata": {},
   "outputs": [],
   "source": [
    "def replace_text(file_name,replacement_text,new_text):\n",
    "    with open(file_name,'r') as file:\n",
    "        text=file.read()\n",
    "        text=text.replace(replacement_text,new_text)\n",
    "    with open(file_name,'w') as file:\n",
    "        file.write(text)"
   ]
  },
  {
   "cell_type": "code",
   "execution_count": 5,
   "id": "d1da825a-7290-45af-8edb-4ecf15109a44",
   "metadata": {},
   "outputs": [],
   "source": [
    "replace_text(r'example.txt','placement','screening')"
   ]
  },
  {
   "cell_type": "markdown",
   "id": "4394fce4-c02e-463f-9470-c690ccdce4de",
   "metadata": {},
   "source": [
    "2. Demonstrate use of abstract class, multiple inheritance and decorator in python using examples."
   ]
  },
  {
   "cell_type": "code",
   "execution_count": 6,
   "id": "6893f5ca-3d76-4396-938c-952bdb0a307c",
   "metadata": {},
   "outputs": [],
   "source": [
    "#Abstract class and decorator\n",
    "from abc import ABC, abstractmethod\n",
    "\n",
    "class Computer(ABC):\n",
    "    @abstractmethod\n",
    "    def specifications(self):\n",
    "        pass\n",
    "class Laptop(Computer):\n",
    "    def specifications(self):\n",
    "        print(\"i5 11th gen\")"
   ]
  },
  {
   "cell_type": "code",
   "execution_count": 8,
   "id": "f2c0db79-b5ec-4cbb-943b-bbe4560ae827",
   "metadata": {},
   "outputs": [],
   "source": [
    "x=Laptop()"
   ]
  },
  {
   "cell_type": "code",
   "execution_count": 10,
   "id": "7a3cc61f-1c19-4deb-be2b-ce7b520613a3",
   "metadata": {},
   "outputs": [
    {
     "name": "stdout",
     "output_type": "stream",
     "text": [
      "i5 11th gen\n"
     ]
    }
   ],
   "source": [
    "x.specifications()"
   ]
  },
  {
   "cell_type": "code",
   "execution_count": 15,
   "id": "ccc4866b-dcd3-4021-8836-d999c6cae30a",
   "metadata": {},
   "outputs": [],
   "source": [
    "#Multiple Inheritance\n",
    "\n",
    "class IC_Car:\n",
    "    def fuel(self):\n",
    "        print(\"Runs on petrol/diesel\")\n",
    "class Electric_Car:\n",
    "    def source(self):\n",
    "        print(\"Runs with electricity\")\n",
    "class Hybrid_Car(IC_Car,Electric_Car):\n",
    "    pass"
   ]
  },
  {
   "cell_type": "code",
   "execution_count": 16,
   "id": "c547b53b-981f-4964-a878-c423f267e71d",
   "metadata": {},
   "outputs": [],
   "source": [
    "Mahindra=Hybrid_Car()"
   ]
  },
  {
   "cell_type": "code",
   "execution_count": 17,
   "id": "29094a4a-9dd4-4248-aa33-9ecc3cdaecc7",
   "metadata": {},
   "outputs": [
    {
     "name": "stdout",
     "output_type": "stream",
     "text": [
      "Runs on petrol/diesel\n",
      "Runs with electricity\n"
     ]
    }
   ],
   "source": [
    "Mahindra.fuel()\n",
    "Mahindra.source()"
   ]
  },
  {
   "cell_type": "code",
   "execution_count": null,
   "id": "24337afb-b074-4019-b963-49d7ae415e05",
   "metadata": {},
   "outputs": [],
   "source": []
  }
 ],
 "metadata": {
  "kernelspec": {
   "display_name": "Python 3 (ipykernel)",
   "language": "python",
   "name": "python3"
  },
  "language_info": {
   "codemirror_mode": {
    "name": "ipython",
    "version": 3
   },
   "file_extension": ".py",
   "mimetype": "text/x-python",
   "name": "python",
   "nbconvert_exporter": "python",
   "pygments_lexer": "ipython3",
   "version": "3.10.1"
  }
 },
 "nbformat": 4,
 "nbformat_minor": 5
}
